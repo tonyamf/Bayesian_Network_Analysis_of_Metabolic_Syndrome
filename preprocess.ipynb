{
 "metadata": {
  "language_info": {
   "codemirror_mode": {
    "name": "ipython",
    "version": 3
   },
   "file_extension": ".py",
   "mimetype": "text/x-python",
   "name": "python",
   "nbconvert_exporter": "python",
   "pygments_lexer": "ipython3",
   "version": "3.8.5"
  },
  "orig_nbformat": 2,
  "kernelspec": {
   "name": "python385jvsc74a57bd00d3e69112dd70888de3a4be91ca62911df3c25da0658dc328afc65d40e89ead9",
   "display_name": "Python 3.8.5 64-bit (conda)"
  }
 },
 "nbformat": 4,
 "nbformat_minor": 2,
 "cells": [
  {
   "cell_type": "code",
   "execution_count": 1,
   "metadata": {},
   "outputs": [],
   "source": [
    "import numpy as np\n",
    "import pandas as pd"
   ]
  },
  {
   "cell_type": "code",
   "execution_count": 3,
   "metadata": {},
   "outputs": [],
   "source": [
    "data = pd.read_excel(r'C:\\Users\\Antonio franco\\Documents\\M_AML\\data.xls')"
   ]
  },
  {
   "cell_type": "code",
   "execution_count": 4,
   "metadata": {},
   "outputs": [
    {
     "output_type": "execute_result",
     "data": {
      "text/plain": [
       "        DBP    SBP  FastingBloodSugar  Triglycerides  HDLcholestrol  \\\n",
       "0      70.0  110.0          78.400002     329.399994      33.599998   \n",
       "1      60.0  100.0         156.600006     107.099998      40.599998   \n",
       "2      65.0  110.0          91.000000     154.899994      31.100000   \n",
       "3      60.0   97.0          91.699997     163.000000      45.900002   \n",
       "4      80.0  122.0          90.900002     140.800003      53.700001   \n",
       "...     ...    ...                ...            ...            ...   \n",
       "10042  60.0   89.0          95.900002      84.599998      50.299999   \n",
       "10043  60.0  100.0         158.000000      59.000000      64.000000   \n",
       "10044  80.0  135.0         101.900002     187.199997      55.200001   \n",
       "10045  70.0  100.0          80.300003     284.700012      36.299999   \n",
       "10046  70.0  100.0          99.099998      66.900002      59.299999   \n",
       "\n",
       "       LDLcholestrol  IDFMetsynd  ATPMetssynd  Unnamed: 8  Unnamed: 9  \\\n",
       "0          85.599998         1.0          1.0         NaN         NaN   \n",
       "1          64.599998         1.0          1.0         NaN         NaN   \n",
       "2          93.199997         1.0          0.0         NaN         NaN   \n",
       "3         131.199997         1.0          1.0         NaN         NaN   \n",
       "4         101.300003         0.0          0.0         NaN         NaN   \n",
       "...              ...         ...          ...         ...         ...   \n",
       "10042      55.900002         0.0          0.0         NaN         NaN   \n",
       "10043     109.000000         0.0          0.0         NaN         NaN   \n",
       "10044     126.599998         1.0          1.0         NaN         NaN   \n",
       "10045      85.599998         1.0          1.0         NaN         NaN   \n",
       "10046      78.699997         0.0          0.0         NaN         NaN   \n",
       "\n",
       "       Unnamed: 10                           Unnamed: 11  \n",
       "0              NaN                                   NaN  \n",
       "1              NaN                                   NaN  \n",
       "2              NaN        DBP=  diastolic blood pressure  \n",
       "3              NaN           SBP=systolic blood pressure  \n",
       "4              NaN  HDLCholesterol: The Good Cholesterol  \n",
       "...            ...                                   ...  \n",
       "10042          NaN                                   NaN  \n",
       "10043          NaN                                   NaN  \n",
       "10044          NaN                                   NaN  \n",
       "10045          NaN                                   NaN  \n",
       "10046          NaN                                   NaN  \n",
       "\n",
       "[10047 rows x 12 columns]"
      ],
      "text/html": "<div>\n<style scoped>\n    .dataframe tbody tr th:only-of-type {\n        vertical-align: middle;\n    }\n\n    .dataframe tbody tr th {\n        vertical-align: top;\n    }\n\n    .dataframe thead th {\n        text-align: right;\n    }\n</style>\n<table border=\"1\" class=\"dataframe\">\n  <thead>\n    <tr style=\"text-align: right;\">\n      <th></th>\n      <th>DBP</th>\n      <th>SBP</th>\n      <th>FastingBloodSugar</th>\n      <th>Triglycerides</th>\n      <th>HDLcholestrol</th>\n      <th>LDLcholestrol</th>\n      <th>IDFMetsynd</th>\n      <th>ATPMetssynd</th>\n      <th>Unnamed: 8</th>\n      <th>Unnamed: 9</th>\n      <th>Unnamed: 10</th>\n      <th>Unnamed: 11</th>\n    </tr>\n  </thead>\n  <tbody>\n    <tr>\n      <th>0</th>\n      <td>70.0</td>\n      <td>110.0</td>\n      <td>78.400002</td>\n      <td>329.399994</td>\n      <td>33.599998</td>\n      <td>85.599998</td>\n      <td>1.0</td>\n      <td>1.0</td>\n      <td>NaN</td>\n      <td>NaN</td>\n      <td>NaN</td>\n      <td>NaN</td>\n    </tr>\n    <tr>\n      <th>1</th>\n      <td>60.0</td>\n      <td>100.0</td>\n      <td>156.600006</td>\n      <td>107.099998</td>\n      <td>40.599998</td>\n      <td>64.599998</td>\n      <td>1.0</td>\n      <td>1.0</td>\n      <td>NaN</td>\n      <td>NaN</td>\n      <td>NaN</td>\n      <td>NaN</td>\n    </tr>\n    <tr>\n      <th>2</th>\n      <td>65.0</td>\n      <td>110.0</td>\n      <td>91.000000</td>\n      <td>154.899994</td>\n      <td>31.100000</td>\n      <td>93.199997</td>\n      <td>1.0</td>\n      <td>0.0</td>\n      <td>NaN</td>\n      <td>NaN</td>\n      <td>NaN</td>\n      <td>DBP=  diastolic blood pressure</td>\n    </tr>\n    <tr>\n      <th>3</th>\n      <td>60.0</td>\n      <td>97.0</td>\n      <td>91.699997</td>\n      <td>163.000000</td>\n      <td>45.900002</td>\n      <td>131.199997</td>\n      <td>1.0</td>\n      <td>1.0</td>\n      <td>NaN</td>\n      <td>NaN</td>\n      <td>NaN</td>\n      <td>SBP=systolic blood pressure</td>\n    </tr>\n    <tr>\n      <th>4</th>\n      <td>80.0</td>\n      <td>122.0</td>\n      <td>90.900002</td>\n      <td>140.800003</td>\n      <td>53.700001</td>\n      <td>101.300003</td>\n      <td>0.0</td>\n      <td>0.0</td>\n      <td>NaN</td>\n      <td>NaN</td>\n      <td>NaN</td>\n      <td>HDLCholesterol: The Good Cholesterol</td>\n    </tr>\n    <tr>\n      <th>...</th>\n      <td>...</td>\n      <td>...</td>\n      <td>...</td>\n      <td>...</td>\n      <td>...</td>\n      <td>...</td>\n      <td>...</td>\n      <td>...</td>\n      <td>...</td>\n      <td>...</td>\n      <td>...</td>\n      <td>...</td>\n    </tr>\n    <tr>\n      <th>10042</th>\n      <td>60.0</td>\n      <td>89.0</td>\n      <td>95.900002</td>\n      <td>84.599998</td>\n      <td>50.299999</td>\n      <td>55.900002</td>\n      <td>0.0</td>\n      <td>0.0</td>\n      <td>NaN</td>\n      <td>NaN</td>\n      <td>NaN</td>\n      <td>NaN</td>\n    </tr>\n    <tr>\n      <th>10043</th>\n      <td>60.0</td>\n      <td>100.0</td>\n      <td>158.000000</td>\n      <td>59.000000</td>\n      <td>64.000000</td>\n      <td>109.000000</td>\n      <td>0.0</td>\n      <td>0.0</td>\n      <td>NaN</td>\n      <td>NaN</td>\n      <td>NaN</td>\n      <td>NaN</td>\n    </tr>\n    <tr>\n      <th>10044</th>\n      <td>80.0</td>\n      <td>135.0</td>\n      <td>101.900002</td>\n      <td>187.199997</td>\n      <td>55.200001</td>\n      <td>126.599998</td>\n      <td>1.0</td>\n      <td>1.0</td>\n      <td>NaN</td>\n      <td>NaN</td>\n      <td>NaN</td>\n      <td>NaN</td>\n    </tr>\n    <tr>\n      <th>10045</th>\n      <td>70.0</td>\n      <td>100.0</td>\n      <td>80.300003</td>\n      <td>284.700012</td>\n      <td>36.299999</td>\n      <td>85.599998</td>\n      <td>1.0</td>\n      <td>1.0</td>\n      <td>NaN</td>\n      <td>NaN</td>\n      <td>NaN</td>\n      <td>NaN</td>\n    </tr>\n    <tr>\n      <th>10046</th>\n      <td>70.0</td>\n      <td>100.0</td>\n      <td>99.099998</td>\n      <td>66.900002</td>\n      <td>59.299999</td>\n      <td>78.699997</td>\n      <td>0.0</td>\n      <td>0.0</td>\n      <td>NaN</td>\n      <td>NaN</td>\n      <td>NaN</td>\n      <td>NaN</td>\n    </tr>\n  </tbody>\n</table>\n<p>10047 rows × 12 columns</p>\n</div>"
     },
     "metadata": {},
     "execution_count": 4
    }
   ],
   "source": [
    "data"
   ]
  },
  {
   "cell_type": "code",
   "execution_count": 5,
   "metadata": {},
   "outputs": [],
   "source": [
    "data = data[['DBP', 'SBP', 'FastingBloodSugar', 'Triglycerides', 'HDLcholestrol', 'LDLcholestrol', 'IDFMetsynd', 'ATPMetssynd']]"
   ]
  },
  {
   "cell_type": "code",
   "execution_count": 7,
   "metadata": {},
   "outputs": [],
   "source": [
    "data = data.replace(r'^\\s*$', np.nan, regex=True)"
   ]
  },
  {
   "cell_type": "code",
   "execution_count": 17,
   "metadata": {},
   "outputs": [],
   "source": [
    "df = data.dropna()"
   ]
  },
  {
   "cell_type": "code",
   "execution_count": 19,
   "metadata": {},
   "outputs": [
    {
     "output_type": "stream",
     "name": "stderr",
     "text": [
      "C:\\Users\\Antonio franco\\anaconda3\\lib\\site-packages\\pandas\\core\\indexing.py:670: SettingWithCopyWarning: \nA value is trying to be set on a copy of a slice from a DataFrame\n\nSee the caveats in the documentation: https://pandas.pydata.org/pandas-docs/stable/user_guide/indexing.html#returning-a-view-versus-a-copy\n  iloc._setitem_with_indexer(indexer, value)\n<ipython-input-19-b64eae3e9c07>:1: SettingWithCopyWarning: \nA value is trying to be set on a copy of a slice from a DataFrame\n\nSee the caveats in the documentation: https://pandas.pydata.org/pandas-docs/stable/user_guide/indexing.html#returning-a-view-versus-a-copy\n  df.loc[(df.DBP < 80), 'DBP'] = 0\nC:\\Users\\Antonio franco\\anaconda3\\lib\\site-packages\\pandas\\core\\indexing.py:670: SettingWithCopyWarning: \nA value is trying to be set on a copy of a slice from a DataFrame\n\nSee the caveats in the documentation: https://pandas.pydata.org/pandas-docs/stable/user_guide/indexing.html#returning-a-view-versus-a-copy\n  iloc._setitem_with_indexer(indexer, value)\n<ipython-input-19-b64eae3e9c07>:2: SettingWithCopyWarning: \nA value is trying to be set on a copy of a slice from a DataFrame\n\nSee the caveats in the documentation: https://pandas.pydata.org/pandas-docs/stable/user_guide/indexing.html#returning-a-view-versus-a-copy\n  df.loc[(df.DBP >= 80) & (df.DBP < 90), 'DBP'] = 1\nC:\\Users\\Antonio franco\\anaconda3\\lib\\site-packages\\pandas\\core\\indexing.py:670: SettingWithCopyWarning: \nA value is trying to be set on a copy of a slice from a DataFrame\n\nSee the caveats in the documentation: https://pandas.pydata.org/pandas-docs/stable/user_guide/indexing.html#returning-a-view-versus-a-copy\n  iloc._setitem_with_indexer(indexer, value)\n<ipython-input-19-b64eae3e9c07>:3: SettingWithCopyWarning: \nA value is trying to be set on a copy of a slice from a DataFrame\n\nSee the caveats in the documentation: https://pandas.pydata.org/pandas-docs/stable/user_guide/indexing.html#returning-a-view-versus-a-copy\n  df.loc[(df.DBP >= 90) & (df.DBP <= 120), 'DBP'] = 2\nC:\\Users\\Antonio franco\\anaconda3\\lib\\site-packages\\pandas\\core\\indexing.py:670: SettingWithCopyWarning: \nA value is trying to be set on a copy of a slice from a DataFrame\n\nSee the caveats in the documentation: https://pandas.pydata.org/pandas-docs/stable/user_guide/indexing.html#returning-a-view-versus-a-copy\n  iloc._setitem_with_indexer(indexer, value)\n<ipython-input-19-b64eae3e9c07>:4: SettingWithCopyWarning: \nA value is trying to be set on a copy of a slice from a DataFrame\n\nSee the caveats in the documentation: https://pandas.pydata.org/pandas-docs/stable/user_guide/indexing.html#returning-a-view-versus-a-copy\n  df.loc[(df.DBP > 120), 'DBP'] = 3\n"
     ]
    }
   ],
   "source": [
    "df.loc[(df.DBP < 80), 'DBP'] = 0\n",
    "df.loc[(df.DBP >= 80) & (df.DBP < 90), 'DBP'] = 1\n",
    "df.loc[(df.DBP >= 90) & (df.DBP <= 120), 'DBP'] = 2\n",
    "df.loc[(df.DBP > 120), 'DBP'] = 3"
   ]
  },
  {
   "cell_type": "code",
   "execution_count": 20,
   "metadata": {},
   "outputs": [
    {
     "output_type": "stream",
     "name": "stderr",
     "text": [
      "C:\\Users\\Antonio franco\\anaconda3\\lib\\site-packages\\pandas\\core\\indexing.py:670: SettingWithCopyWarning: \nA value is trying to be set on a copy of a slice from a DataFrame\n\nSee the caveats in the documentation: https://pandas.pydata.org/pandas-docs/stable/user_guide/indexing.html#returning-a-view-versus-a-copy\n  iloc._setitem_with_indexer(indexer, value)\n<ipython-input-20-ee0a9a76a999>:1: SettingWithCopyWarning: \nA value is trying to be set on a copy of a slice from a DataFrame\n\nSee the caveats in the documentation: https://pandas.pydata.org/pandas-docs/stable/user_guide/indexing.html#returning-a-view-versus-a-copy\n  df.loc[(df.SBP < 120), 'SBP'] = 0\nC:\\Users\\Antonio franco\\anaconda3\\lib\\site-packages\\pandas\\core\\indexing.py:670: SettingWithCopyWarning: \nA value is trying to be set on a copy of a slice from a DataFrame\n\nSee the caveats in the documentation: https://pandas.pydata.org/pandas-docs/stable/user_guide/indexing.html#returning-a-view-versus-a-copy\n  iloc._setitem_with_indexer(indexer, value)\n<ipython-input-20-ee0a9a76a999>:2: SettingWithCopyWarning: \nA value is trying to be set on a copy of a slice from a DataFrame\n\nSee the caveats in the documentation: https://pandas.pydata.org/pandas-docs/stable/user_guide/indexing.html#returning-a-view-versus-a-copy\n  df.loc[(df.SBP >= 120) & (df.SBP < 130), 'SBP'] = 1\nC:\\Users\\Antonio franco\\anaconda3\\lib\\site-packages\\pandas\\core\\indexing.py:670: SettingWithCopyWarning: \nA value is trying to be set on a copy of a slice from a DataFrame\n\nSee the caveats in the documentation: https://pandas.pydata.org/pandas-docs/stable/user_guide/indexing.html#returning-a-view-versus-a-copy\n  iloc._setitem_with_indexer(indexer, value)\n<ipython-input-20-ee0a9a76a999>:3: SettingWithCopyWarning: \nA value is trying to be set on a copy of a slice from a DataFrame\n\nSee the caveats in the documentation: https://pandas.pydata.org/pandas-docs/stable/user_guide/indexing.html#returning-a-view-versus-a-copy\n  df.loc[(df.SBP >= 130) & (df.SBP < 140), 'SBP'] = 2\nC:\\Users\\Antonio franco\\anaconda3\\lib\\site-packages\\pandas\\core\\indexing.py:670: SettingWithCopyWarning: \nA value is trying to be set on a copy of a slice from a DataFrame\n\nSee the caveats in the documentation: https://pandas.pydata.org/pandas-docs/stable/user_guide/indexing.html#returning-a-view-versus-a-copy\n  iloc._setitem_with_indexer(indexer, value)\n<ipython-input-20-ee0a9a76a999>:4: SettingWithCopyWarning: \nA value is trying to be set on a copy of a slice from a DataFrame\n\nSee the caveats in the documentation: https://pandas.pydata.org/pandas-docs/stable/user_guide/indexing.html#returning-a-view-versus-a-copy\n  df.loc[(df.SBP >= 140) & (df.SBP <= 180), 'SBP'] = 3\nC:\\Users\\Antonio franco\\anaconda3\\lib\\site-packages\\pandas\\core\\indexing.py:670: SettingWithCopyWarning: \nA value is trying to be set on a copy of a slice from a DataFrame\n\nSee the caveats in the documentation: https://pandas.pydata.org/pandas-docs/stable/user_guide/indexing.html#returning-a-view-versus-a-copy\n  iloc._setitem_with_indexer(indexer, value)\n<ipython-input-20-ee0a9a76a999>:5: SettingWithCopyWarning: \nA value is trying to be set on a copy of a slice from a DataFrame\n\nSee the caveats in the documentation: https://pandas.pydata.org/pandas-docs/stable/user_guide/indexing.html#returning-a-view-versus-a-copy\n  df.loc[(df.SBP > 180), 'SBP'] = 4\n"
     ]
    }
   ],
   "source": [
    "df.loc[(df.SBP < 120), 'SBP'] = 0\n",
    "df.loc[(df.SBP >= 120) & (df.SBP < 130), 'SBP'] = 1\n",
    "df.loc[(df.SBP >= 130) & (df.SBP < 140), 'SBP'] = 2\n",
    "df.loc[(df.SBP >= 140) & (df.SBP <= 180), 'SBP'] = 3\n",
    "df.loc[(df.SBP > 180), 'SBP'] = 4"
   ]
  },
  {
   "cell_type": "code",
   "execution_count": 22,
   "metadata": {},
   "outputs": [
    {
     "output_type": "stream",
     "name": "stderr",
     "text": [
      "C:\\Users\\Antonio franco\\anaconda3\\lib\\site-packages\\pandas\\core\\indexing.py:670: SettingWithCopyWarning: \nA value is trying to be set on a copy of a slice from a DataFrame\n\nSee the caveats in the documentation: https://pandas.pydata.org/pandas-docs/stable/user_guide/indexing.html#returning-a-view-versus-a-copy\n  iloc._setitem_with_indexer(indexer, value)\n<ipython-input-22-8cabb854b90f>:1: SettingWithCopyWarning: \nA value is trying to be set on a copy of a slice from a DataFrame\n\nSee the caveats in the documentation: https://pandas.pydata.org/pandas-docs/stable/user_guide/indexing.html#returning-a-view-versus-a-copy\n  df.loc[(df.FastingBloodSugar < 100), 'FastingBloodSugar'] = 0\nC:\\Users\\Antonio franco\\anaconda3\\lib\\site-packages\\pandas\\core\\indexing.py:670: SettingWithCopyWarning: \nA value is trying to be set on a copy of a slice from a DataFrame\n\nSee the caveats in the documentation: https://pandas.pydata.org/pandas-docs/stable/user_guide/indexing.html#returning-a-view-versus-a-copy\n  iloc._setitem_with_indexer(indexer, value)\n<ipython-input-22-8cabb854b90f>:2: SettingWithCopyWarning: \nA value is trying to be set on a copy of a slice from a DataFrame\n\nSee the caveats in the documentation: https://pandas.pydata.org/pandas-docs/stable/user_guide/indexing.html#returning-a-view-versus-a-copy\n  df.loc[(df.FastingBloodSugar >= 100) & (df.FastingBloodSugar < 126), 'FastingBloodSugar'] = 1\nC:\\Users\\Antonio franco\\anaconda3\\lib\\site-packages\\pandas\\core\\indexing.py:670: SettingWithCopyWarning: \nA value is trying to be set on a copy of a slice from a DataFrame\n\nSee the caveats in the documentation: https://pandas.pydata.org/pandas-docs/stable/user_guide/indexing.html#returning-a-view-versus-a-copy\n  iloc._setitem_with_indexer(indexer, value)\n<ipython-input-22-8cabb854b90f>:3: SettingWithCopyWarning: \nA value is trying to be set on a copy of a slice from a DataFrame\n\nSee the caveats in the documentation: https://pandas.pydata.org/pandas-docs/stable/user_guide/indexing.html#returning-a-view-versus-a-copy\n  df.loc[(df.FastingBloodSugar >= 126), 'FastingBloodSugar'] = 2\n"
     ]
    }
   ],
   "source": [
    "df.loc[(df.FastingBloodSugar < 100), 'FastingBloodSugar'] = 0\n",
    "df.loc[(df.FastingBloodSugar >= 100) & (df.FastingBloodSugar < 126), 'FastingBloodSugar'] = 1\n",
    "df.loc[(df.FastingBloodSugar >= 126), 'FastingBloodSugar'] = 2"
   ]
  },
  {
   "cell_type": "code",
   "execution_count": 24,
   "metadata": {},
   "outputs": [
    {
     "output_type": "stream",
     "name": "stderr",
     "text": [
      "C:\\Users\\Antonio franco\\anaconda3\\lib\\site-packages\\pandas\\core\\indexing.py:670: SettingWithCopyWarning: \nA value is trying to be set on a copy of a slice from a DataFrame\n\nSee the caveats in the documentation: https://pandas.pydata.org/pandas-docs/stable/user_guide/indexing.html#returning-a-view-versus-a-copy\n  iloc._setitem_with_indexer(indexer, value)\n<ipython-input-24-9dd5f3c11068>:1: SettingWithCopyWarning: \nA value is trying to be set on a copy of a slice from a DataFrame\n\nSee the caveats in the documentation: https://pandas.pydata.org/pandas-docs/stable/user_guide/indexing.html#returning-a-view-versus-a-copy\n  df.loc[(df.Triglycerides < 150), 'Triglycerides'] = 0\nC:\\Users\\Antonio franco\\anaconda3\\lib\\site-packages\\pandas\\core\\indexing.py:670: SettingWithCopyWarning: \nA value is trying to be set on a copy of a slice from a DataFrame\n\nSee the caveats in the documentation: https://pandas.pydata.org/pandas-docs/stable/user_guide/indexing.html#returning-a-view-versus-a-copy\n  iloc._setitem_with_indexer(indexer, value)\n<ipython-input-24-9dd5f3c11068>:2: SettingWithCopyWarning: \nA value is trying to be set on a copy of a slice from a DataFrame\n\nSee the caveats in the documentation: https://pandas.pydata.org/pandas-docs/stable/user_guide/indexing.html#returning-a-view-versus-a-copy\n  df.loc[(df.Triglycerides >= 150) & (df.Triglycerides < 200), 'Triglycerides'] = 1\nC:\\Users\\Antonio franco\\anaconda3\\lib\\site-packages\\pandas\\core\\indexing.py:670: SettingWithCopyWarning: \nA value is trying to be set on a copy of a slice from a DataFrame\n\nSee the caveats in the documentation: https://pandas.pydata.org/pandas-docs/stable/user_guide/indexing.html#returning-a-view-versus-a-copy\n  iloc._setitem_with_indexer(indexer, value)\n<ipython-input-24-9dd5f3c11068>:3: SettingWithCopyWarning: \nA value is trying to be set on a copy of a slice from a DataFrame\n\nSee the caveats in the documentation: https://pandas.pydata.org/pandas-docs/stable/user_guide/indexing.html#returning-a-view-versus-a-copy\n  df.loc[(df.Triglycerides >= 200) & (df.Triglycerides < 500), 'Triglycerides'] = 2\nC:\\Users\\Antonio franco\\anaconda3\\lib\\site-packages\\pandas\\core\\indexing.py:670: SettingWithCopyWarning: \nA value is trying to be set on a copy of a slice from a DataFrame\n\nSee the caveats in the documentation: https://pandas.pydata.org/pandas-docs/stable/user_guide/indexing.html#returning-a-view-versus-a-copy\n  iloc._setitem_with_indexer(indexer, value)\n<ipython-input-24-9dd5f3c11068>:4: SettingWithCopyWarning: \nA value is trying to be set on a copy of a slice from a DataFrame\n\nSee the caveats in the documentation: https://pandas.pydata.org/pandas-docs/stable/user_guide/indexing.html#returning-a-view-versus-a-copy\n  df.loc[(df.Triglycerides >= 500), 'Triglycerides'] = 3\n"
     ]
    }
   ],
   "source": [
    "df.loc[(df.Triglycerides < 150), 'Triglycerides'] = 0\n",
    "df.loc[(df.Triglycerides >= 150) & (df.Triglycerides < 200), 'Triglycerides'] = 1\n",
    "df.loc[(df.Triglycerides >= 200) & (df.Triglycerides < 500), 'Triglycerides'] = 2\n",
    "df.loc[(df.Triglycerides >= 500), 'Triglycerides'] = 3"
   ]
  },
  {
   "cell_type": "code",
   "execution_count": 25,
   "metadata": {},
   "outputs": [
    {
     "output_type": "stream",
     "name": "stderr",
     "text": [
      "C:\\Users\\Antonio franco\\anaconda3\\lib\\site-packages\\pandas\\core\\indexing.py:670: SettingWithCopyWarning: \nA value is trying to be set on a copy of a slice from a DataFrame\n\nSee the caveats in the documentation: https://pandas.pydata.org/pandas-docs/stable/user_guide/indexing.html#returning-a-view-versus-a-copy\n  iloc._setitem_with_indexer(indexer, value)\n<ipython-input-25-cb3fbc2a688b>:1: SettingWithCopyWarning: \nA value is trying to be set on a copy of a slice from a DataFrame\n\nSee the caveats in the documentation: https://pandas.pydata.org/pandas-docs/stable/user_guide/indexing.html#returning-a-view-versus-a-copy\n  df.loc[(df.HDLcholestrol < 40), 'HDLcholestrol'] = 0\nC:\\Users\\Antonio franco\\anaconda3\\lib\\site-packages\\pandas\\core\\indexing.py:670: SettingWithCopyWarning: \nA value is trying to be set on a copy of a slice from a DataFrame\n\nSee the caveats in the documentation: https://pandas.pydata.org/pandas-docs/stable/user_guide/indexing.html#returning-a-view-versus-a-copy\n  iloc._setitem_with_indexer(indexer, value)\n<ipython-input-25-cb3fbc2a688b>:2: SettingWithCopyWarning: \nA value is trying to be set on a copy of a slice from a DataFrame\n\nSee the caveats in the documentation: https://pandas.pydata.org/pandas-docs/stable/user_guide/indexing.html#returning-a-view-versus-a-copy\n  df.loc[(df.HDLcholestrol >= 40) & (df.HDLcholestrol <= 60), 'HDLcholestrol'] = 1\nC:\\Users\\Antonio franco\\anaconda3\\lib\\site-packages\\pandas\\core\\indexing.py:670: SettingWithCopyWarning: \nA value is trying to be set on a copy of a slice from a DataFrame\n\nSee the caveats in the documentation: https://pandas.pydata.org/pandas-docs/stable/user_guide/indexing.html#returning-a-view-versus-a-copy\n  iloc._setitem_with_indexer(indexer, value)\n<ipython-input-25-cb3fbc2a688b>:3: SettingWithCopyWarning: \nA value is trying to be set on a copy of a slice from a DataFrame\n\nSee the caveats in the documentation: https://pandas.pydata.org/pandas-docs/stable/user_guide/indexing.html#returning-a-view-versus-a-copy\n  df.loc[(df.HDLcholestrol > 60), 'HDLcholestrol'] = 2\n"
     ]
    }
   ],
   "source": [
    "df.loc[(df.HDLcholestrol < 40), 'HDLcholestrol'] = 0\n",
    "df.loc[(df.HDLcholestrol >= 40) & (df.HDLcholestrol <= 60), 'HDLcholestrol'] = 1\n",
    "df.loc[(df.HDLcholestrol > 60), 'HDLcholestrol'] = 2"
   ]
  },
  {
   "cell_type": "code",
   "execution_count": 26,
   "metadata": {},
   "outputs": [
    {
     "output_type": "stream",
     "name": "stderr",
     "text": [
      "C:\\Users\\Antonio franco\\anaconda3\\lib\\site-packages\\pandas\\core\\indexing.py:670: SettingWithCopyWarning: \nA value is trying to be set on a copy of a slice from a DataFrame\n\nSee the caveats in the documentation: https://pandas.pydata.org/pandas-docs/stable/user_guide/indexing.html#returning-a-view-versus-a-copy\n  iloc._setitem_with_indexer(indexer, value)\n<ipython-input-26-108008d0b13a>:1: SettingWithCopyWarning: \nA value is trying to be set on a copy of a slice from a DataFrame\n\nSee the caveats in the documentation: https://pandas.pydata.org/pandas-docs/stable/user_guide/indexing.html#returning-a-view-versus-a-copy\n  df.loc[(df.LDLcholestrol < 100), 'LDLcholestrol'] = 0\nC:\\Users\\Antonio franco\\anaconda3\\lib\\site-packages\\pandas\\core\\indexing.py:670: SettingWithCopyWarning: \nA value is trying to be set on a copy of a slice from a DataFrame\n\nSee the caveats in the documentation: https://pandas.pydata.org/pandas-docs/stable/user_guide/indexing.html#returning-a-view-versus-a-copy\n  iloc._setitem_with_indexer(indexer, value)\n<ipython-input-26-108008d0b13a>:2: SettingWithCopyWarning: \nA value is trying to be set on a copy of a slice from a DataFrame\n\nSee the caveats in the documentation: https://pandas.pydata.org/pandas-docs/stable/user_guide/indexing.html#returning-a-view-versus-a-copy\n  df.loc[(df.LDLcholestrol >= 100) & (df.LDLcholestrol < 130), 'LDLcholestrol'] = 1\nC:\\Users\\Antonio franco\\anaconda3\\lib\\site-packages\\pandas\\core\\indexing.py:670: SettingWithCopyWarning: \nA value is trying to be set on a copy of a slice from a DataFrame\n\nSee the caveats in the documentation: https://pandas.pydata.org/pandas-docs/stable/user_guide/indexing.html#returning-a-view-versus-a-copy\n  iloc._setitem_with_indexer(indexer, value)\n<ipython-input-26-108008d0b13a>:3: SettingWithCopyWarning: \nA value is trying to be set on a copy of a slice from a DataFrame\n\nSee the caveats in the documentation: https://pandas.pydata.org/pandas-docs/stable/user_guide/indexing.html#returning-a-view-versus-a-copy\n  df.loc[(df.LDLcholestrol >= 130) & (df.LDLcholestrol < 160), 'LDLcholestrol'] = 2\nC:\\Users\\Antonio franco\\anaconda3\\lib\\site-packages\\pandas\\core\\indexing.py:670: SettingWithCopyWarning: \nA value is trying to be set on a copy of a slice from a DataFrame\n\nSee the caveats in the documentation: https://pandas.pydata.org/pandas-docs/stable/user_guide/indexing.html#returning-a-view-versus-a-copy\n  iloc._setitem_with_indexer(indexer, value)\n<ipython-input-26-108008d0b13a>:4: SettingWithCopyWarning: \nA value is trying to be set on a copy of a slice from a DataFrame\n\nSee the caveats in the documentation: https://pandas.pydata.org/pandas-docs/stable/user_guide/indexing.html#returning-a-view-versus-a-copy\n  df.loc[(df.LDLcholestrol >= 160) & (df.LDLcholestrol < 190), 'LDLcholestrol'] = 3\nC:\\Users\\Antonio franco\\anaconda3\\lib\\site-packages\\pandas\\core\\indexing.py:670: SettingWithCopyWarning: \nA value is trying to be set on a copy of a slice from a DataFrame\n\nSee the caveats in the documentation: https://pandas.pydata.org/pandas-docs/stable/user_guide/indexing.html#returning-a-view-versus-a-copy\n  iloc._setitem_with_indexer(indexer, value)\n<ipython-input-26-108008d0b13a>:5: SettingWithCopyWarning: \nA value is trying to be set on a copy of a slice from a DataFrame\n\nSee the caveats in the documentation: https://pandas.pydata.org/pandas-docs/stable/user_guide/indexing.html#returning-a-view-versus-a-copy\n  df.loc[(df.LDLcholestrol >= 190), 'LDLcholestrol'] = 4\n"
     ]
    }
   ],
   "source": [
    "df.loc[(df.LDLcholestrol < 100), 'LDLcholestrol'] = 0\n",
    "df.loc[(df.LDLcholestrol >= 100) & (df.LDLcholestrol < 130), 'LDLcholestrol'] = 1\n",
    "df.loc[(df.LDLcholestrol >= 130) & (df.LDLcholestrol < 160), 'LDLcholestrol'] = 2\n",
    "df.loc[(df.LDLcholestrol >= 160) & (df.LDLcholestrol < 190), 'LDLcholestrol'] = 3\n",
    "df.loc[(df.LDLcholestrol >= 190), 'LDLcholestrol'] = 4"
   ]
  },
  {
   "cell_type": "code",
   "execution_count": 31,
   "metadata": {},
   "outputs": [
    {
     "output_type": "stream",
     "name": "stderr",
     "text": [
      "<ipython-input-31-5d62b83a3bfc>:1: SettingWithCopyWarning: \nA value is trying to be set on a copy of a slice from a DataFrame.\nTry using .loc[row_indexer,col_indexer] = value instead\n\nSee the caveats in the documentation: https://pandas.pydata.org/pandas-docs/stable/user_guide/indexing.html#returning-a-view-versus-a-copy\n  df['DBP'] = df['DBP'].astype('category')\n<ipython-input-31-5d62b83a3bfc>:2: SettingWithCopyWarning: \nA value is trying to be set on a copy of a slice from a DataFrame.\nTry using .loc[row_indexer,col_indexer] = value instead\n\nSee the caveats in the documentation: https://pandas.pydata.org/pandas-docs/stable/user_guide/indexing.html#returning-a-view-versus-a-copy\n  df['SBP'] = df['SBP'].astype('category')\n<ipython-input-31-5d62b83a3bfc>:3: SettingWithCopyWarning: \nA value is trying to be set on a copy of a slice from a DataFrame.\nTry using .loc[row_indexer,col_indexer] = value instead\n\nSee the caveats in the documentation: https://pandas.pydata.org/pandas-docs/stable/user_guide/indexing.html#returning-a-view-versus-a-copy\n  df['FastingBloodSugar'] = df['FastingBloodSugar'].astype('category')\n<ipython-input-31-5d62b83a3bfc>:4: SettingWithCopyWarning: \nA value is trying to be set on a copy of a slice from a DataFrame.\nTry using .loc[row_indexer,col_indexer] = value instead\n\nSee the caveats in the documentation: https://pandas.pydata.org/pandas-docs/stable/user_guide/indexing.html#returning-a-view-versus-a-copy\n  df['Triglycerides'] = df['Triglycerides'].astype('category')\n<ipython-input-31-5d62b83a3bfc>:5: SettingWithCopyWarning: \nA value is trying to be set on a copy of a slice from a DataFrame.\nTry using .loc[row_indexer,col_indexer] = value instead\n\nSee the caveats in the documentation: https://pandas.pydata.org/pandas-docs/stable/user_guide/indexing.html#returning-a-view-versus-a-copy\n  df['HDLcholestrol'] = df['HDLcholestrol'].astype('category')\n<ipython-input-31-5d62b83a3bfc>:6: SettingWithCopyWarning: \nA value is trying to be set on a copy of a slice from a DataFrame.\nTry using .loc[row_indexer,col_indexer] = value instead\n\nSee the caveats in the documentation: https://pandas.pydata.org/pandas-docs/stable/user_guide/indexing.html#returning-a-view-versus-a-copy\n  df['LDLcholestrol'] = df['LDLcholestrol'].astype('category')\n<ipython-input-31-5d62b83a3bfc>:7: SettingWithCopyWarning: \nA value is trying to be set on a copy of a slice from a DataFrame.\nTry using .loc[row_indexer,col_indexer] = value instead\n\nSee the caveats in the documentation: https://pandas.pydata.org/pandas-docs/stable/user_guide/indexing.html#returning-a-view-versus-a-copy\n  df['IDFMetsynd'] = df['IDFMetsynd'].astype('category')\n<ipython-input-31-5d62b83a3bfc>:8: SettingWithCopyWarning: \nA value is trying to be set on a copy of a slice from a DataFrame.\nTry using .loc[row_indexer,col_indexer] = value instead\n\nSee the caveats in the documentation: https://pandas.pydata.org/pandas-docs/stable/user_guide/indexing.html#returning-a-view-versus-a-copy\n  df['ATPMetssynd'] = df['ATPMetssynd'].astype('category')\n"
     ]
    }
   ],
   "source": [
    "\n",
    "df['DBP'] = df['DBP'].astype('category')\n",
    "df['SBP'] = df['SBP'].astype('category')\n",
    "df['FastingBloodSugar'] = df['FastingBloodSugar'].astype('category')\n",
    "df['Triglycerides'] = df['Triglycerides'].astype('category')\n",
    "df['HDLcholestrol'] = df['HDLcholestrol'].astype('category')\n",
    "df['LDLcholestrol'] = df['LDLcholestrol'].astype('category')\n",
    "df['IDFMetsynd'] = df['IDFMetsynd'].astype('category')\n",
    "df['ATPMetssynd'] = df['ATPMetssynd'].astype('category')"
   ]
  },
  {
   "cell_type": "code",
   "execution_count": 33,
   "metadata": {},
   "outputs": [
    {
     "output_type": "execute_result",
     "data": {
      "text/plain": [
       "DBP                  category\n",
       "SBP                  category\n",
       "FastingBloodSugar    category\n",
       "Triglycerides        category\n",
       "HDLcholestrol        category\n",
       "LDLcholestrol        category\n",
       "IDFMetsynd           category\n",
       "ATPMetssynd          category\n",
       "dtype: object"
      ]
     },
     "metadata": {},
     "execution_count": 33
    }
   ],
   "source": [
    "df.dtypes"
   ]
  },
  {
   "cell_type": "code",
   "execution_count": 39,
   "metadata": {},
   "outputs": [],
   "source": [
    "dt = data.dropna()\n",
    "dt.to_csv('data.csv', index=False)"
   ]
  },
  {
   "cell_type": "code",
   "execution_count": 36,
   "metadata": {},
   "outputs": [
    {
     "output_type": "execute_result",
     "data": {
      "text/plain": [
       "        DBP    SBP  FastingBloodSugar  Triglycerides  HDLcholestrol  \\\n",
       "0      70.0  110.0          78.400002     329.399994      33.599998   \n",
       "1      60.0  100.0         156.600006     107.099998      40.599998   \n",
       "2      65.0  110.0          91.000000     154.899994      31.100000   \n",
       "3      60.0   97.0          91.699997     163.000000      45.900002   \n",
       "4      80.0  122.0          90.900002     140.800003      53.700001   \n",
       "...     ...    ...                ...            ...            ...   \n",
       "10042  60.0   89.0          95.900002      84.599998      50.299999   \n",
       "10043  60.0  100.0         158.000000      59.000000      64.000000   \n",
       "10044  80.0  135.0         101.900002     187.199997      55.200001   \n",
       "10045  70.0  100.0          80.300003     284.700012      36.299999   \n",
       "10046  70.0  100.0          99.099998      66.900002      59.299999   \n",
       "\n",
       "       LDLcholestrol  IDFMetsynd  ATPMetssynd  \n",
       "0          85.599998         1.0          1.0  \n",
       "1          64.599998         1.0          1.0  \n",
       "2          93.199997         1.0          0.0  \n",
       "3         131.199997         1.0          1.0  \n",
       "4         101.300003         0.0          0.0  \n",
       "...              ...         ...          ...  \n",
       "10042      55.900002         0.0          0.0  \n",
       "10043     109.000000         0.0          0.0  \n",
       "10044     126.599998         1.0          1.0  \n",
       "10045      85.599998         1.0          1.0  \n",
       "10046      78.699997         0.0          0.0  \n",
       "\n",
       "[9971 rows x 8 columns]"
      ],
      "text/html": "<div>\n<style scoped>\n    .dataframe tbody tr th:only-of-type {\n        vertical-align: middle;\n    }\n\n    .dataframe tbody tr th {\n        vertical-align: top;\n    }\n\n    .dataframe thead th {\n        text-align: right;\n    }\n</style>\n<table border=\"1\" class=\"dataframe\">\n  <thead>\n    <tr style=\"text-align: right;\">\n      <th></th>\n      <th>DBP</th>\n      <th>SBP</th>\n      <th>FastingBloodSugar</th>\n      <th>Triglycerides</th>\n      <th>HDLcholestrol</th>\n      <th>LDLcholestrol</th>\n      <th>IDFMetsynd</th>\n      <th>ATPMetssynd</th>\n    </tr>\n  </thead>\n  <tbody>\n    <tr>\n      <th>0</th>\n      <td>70.0</td>\n      <td>110.0</td>\n      <td>78.400002</td>\n      <td>329.399994</td>\n      <td>33.599998</td>\n      <td>85.599998</td>\n      <td>1.0</td>\n      <td>1.0</td>\n    </tr>\n    <tr>\n      <th>1</th>\n      <td>60.0</td>\n      <td>100.0</td>\n      <td>156.600006</td>\n      <td>107.099998</td>\n      <td>40.599998</td>\n      <td>64.599998</td>\n      <td>1.0</td>\n      <td>1.0</td>\n    </tr>\n    <tr>\n      <th>2</th>\n      <td>65.0</td>\n      <td>110.0</td>\n      <td>91.000000</td>\n      <td>154.899994</td>\n      <td>31.100000</td>\n      <td>93.199997</td>\n      <td>1.0</td>\n      <td>0.0</td>\n    </tr>\n    <tr>\n      <th>3</th>\n      <td>60.0</td>\n      <td>97.0</td>\n      <td>91.699997</td>\n      <td>163.000000</td>\n      <td>45.900002</td>\n      <td>131.199997</td>\n      <td>1.0</td>\n      <td>1.0</td>\n    </tr>\n    <tr>\n      <th>4</th>\n      <td>80.0</td>\n      <td>122.0</td>\n      <td>90.900002</td>\n      <td>140.800003</td>\n      <td>53.700001</td>\n      <td>101.300003</td>\n      <td>0.0</td>\n      <td>0.0</td>\n    </tr>\n    <tr>\n      <th>...</th>\n      <td>...</td>\n      <td>...</td>\n      <td>...</td>\n      <td>...</td>\n      <td>...</td>\n      <td>...</td>\n      <td>...</td>\n      <td>...</td>\n    </tr>\n    <tr>\n      <th>10042</th>\n      <td>60.0</td>\n      <td>89.0</td>\n      <td>95.900002</td>\n      <td>84.599998</td>\n      <td>50.299999</td>\n      <td>55.900002</td>\n      <td>0.0</td>\n      <td>0.0</td>\n    </tr>\n    <tr>\n      <th>10043</th>\n      <td>60.0</td>\n      <td>100.0</td>\n      <td>158.000000</td>\n      <td>59.000000</td>\n      <td>64.000000</td>\n      <td>109.000000</td>\n      <td>0.0</td>\n      <td>0.0</td>\n    </tr>\n    <tr>\n      <th>10044</th>\n      <td>80.0</td>\n      <td>135.0</td>\n      <td>101.900002</td>\n      <td>187.199997</td>\n      <td>55.200001</td>\n      <td>126.599998</td>\n      <td>1.0</td>\n      <td>1.0</td>\n    </tr>\n    <tr>\n      <th>10045</th>\n      <td>70.0</td>\n      <td>100.0</td>\n      <td>80.300003</td>\n      <td>284.700012</td>\n      <td>36.299999</td>\n      <td>85.599998</td>\n      <td>1.0</td>\n      <td>1.0</td>\n    </tr>\n    <tr>\n      <th>10046</th>\n      <td>70.0</td>\n      <td>100.0</td>\n      <td>99.099998</td>\n      <td>66.900002</td>\n      <td>59.299999</td>\n      <td>78.699997</td>\n      <td>0.0</td>\n      <td>0.0</td>\n    </tr>\n  </tbody>\n</table>\n<p>9971 rows × 8 columns</p>\n</div>"
     },
     "metadata": {},
     "execution_count": 36
    }
   ],
   "source": [
    "dt"
   ]
  },
  {
   "cell_type": "code",
   "execution_count": null,
   "metadata": {},
   "outputs": [],
   "source": []
  }
 ]
}